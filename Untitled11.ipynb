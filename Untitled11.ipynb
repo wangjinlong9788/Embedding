{
 "cells": [
  {
   "cell_type": "code",
   "execution_count": 1,
   "metadata": {},
   "outputs": [
    {
     "name": "stdout",
     "output_type": "stream",
     "text": [
      "c: 30.0\n",
      "type of a : <class 'tensorflow.python.framework.ops.Tensor'>\n",
      "type of c : <class 'tensorflow.python.framework.ops.Tensor'>\n",
      "a: 5.0\n",
      "x: 5.0\n",
      "30.0\n"
     ]
    },
    {
     "data": {
      "text/plain": [
       "30.0"
      ]
     },
     "execution_count": 1,
     "metadata": {},
     "output_type": "execute_result"
    }
   ],
   "source": [
    "import tensorflow as tf\n",
    " \n",
    "# Build a graph.\n",
    "a = tf.constant(5.0)\n",
    "b = tf.constant(6.0)\n",
    "c = a * b\n",
    "# Launch the graph in a session.\n",
    "sess = tf.Session()\n",
    "x=sess.run(a)\n",
    "# Evaluate the tensor `c`.\n",
    "print(\"c:\",sess.run(c))\n",
    "print(\"type of a :\",type(a ))\n",
    "print(\"type of c :\",type(c )) #<class 'tensorflow.python.framework.ops.Tensor'>\n",
    "print(\"a:\",sess.run(a))\n",
    "print(\"x:\",x) \n",
    " \n",
    "a = tf.constant(5.0)\n",
    "b = tf.constant(6.0)\n",
    "c = a * b\n",
    "with tf.Session():\n",
    "  # We can also use 'c.eval()' here.\n",
    "  print(c.eval())\n",
    "sess.run(tf.Print(c,[c]))"
   ]
  },
  {
   "cell_type": "code",
   "execution_count": 3,
   "metadata": {},
   "outputs": [
    {
     "name": "stdout",
     "output_type": "stream",
     "text": [
      "40.0\n",
      "10.0\n"
     ]
    }
   ],
   "source": [
    "a=tf.placeholder(tf.float32)\n",
    "b=tf.placeholder(tf.float32)\n",
    "c=tf.add(a,b)\n",
    "\n",
    "with tf.Session() as sess:\n",
    "    print(sess.run(c,feed_dict={a:10,b:30}))\n",
    "    print(sess.run(a,feed_dict={a:10,b:30}))\n",
    "    "
   ]
  },
  {
   "cell_type": "code",
   "execution_count": 17,
   "metadata": {},
   "outputs": [
    {
     "name": "stdout",
     "output_type": "stream",
     "text": [
      "[[0.2018061  0.15608369]\n",
      " [0.7238922  0.6436357 ]]\n",
      "(5, 2)\n",
      "[[0.02376513 0.80810351]\n",
      " [0.23690164 0.25987727]\n",
      " [0.27363998 0.71701211]\n",
      " [0.81931805 0.7415073 ]\n",
      " [0.03914686 0.87721352]]\n",
      "<TensorSliceDataset shapes: (2,), types: tf.float64>\n",
      "<class 'tensorflow.python.data.ops.dataset_ops.TensorSliceDataset'>\n",
      "sess.run(datas): [0.02376513 0.80810351]\n"
     ]
    }
   ],
   "source": [
    "import numpy as np\n",
    "x = tf.placeholder(tf.float32, shape=(2, 2))\n",
    "y = tf.matmul(x, x)\n",
    " \n",
    "with tf.Session() as sess:\n",
    "  rand_array = np.random.rand(2, 2)  \n",
    "  print(sess.run(y, feed_dict={x: rand_array}))\n",
    "k=np.random.uniform(size=(5, 2))\n",
    "print(k.shape)\n",
    "print(k)\n",
    "#dataset = tf.data.Dataset.from_tensor_slices(np.random.uniform(size=(5, 2))) \n",
    "dataset = tf.data.Dataset.from_tensor_slices(k) \n",
    "\n",
    "print(dataset)\n",
    "print(type(dataset))\n",
    "#with tf.Session() as sess:\n",
    "#    print(sess.run(dataset))#Can not convert a TensorSliceDataset into a Tensor or Operation.)\n",
    "\n",
    "datas=dataset.make_one_shot_iterator().get_next()\n",
    "sess=tf.Session()\n",
    "print(\"sess.run(datas):\",sess.run(datas))"
   ]
  },
  {
   "cell_type": "code",
   "execution_count": null,
   "metadata": {},
   "outputs": [],
   "source": []
  },
  {
   "cell_type": "code",
   "execution_count": null,
   "metadata": {},
   "outputs": [],
   "source": []
  }
 ],
 "metadata": {
  "kernelspec": {
   "display_name": "Python 3",
   "language": "python",
   "name": "python3"
  },
  "language_info": {
   "codemirror_mode": {
    "name": "ipython",
    "version": 3
   },
   "file_extension": ".py",
   "mimetype": "text/x-python",
   "name": "python",
   "nbconvert_exporter": "python",
   "pygments_lexer": "ipython3",
   "version": "3.6.5"
  }
 },
 "nbformat": 4,
 "nbformat_minor": 2
}
