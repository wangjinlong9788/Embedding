{
 "cells": [
  {
   "cell_type": "code",
   "execution_count": 1,
   "metadata": {},
   "outputs": [
    {
     "name": "stdout",
     "output_type": "stream",
     "text": [
      "c: 30.0\n",
      "type of a : <class 'tensorflow.python.framework.ops.Tensor'>\n",
      "type of c : <class 'tensorflow.python.framework.ops.Tensor'>\n",
      "a: 5.0\n",
      "x: 5.0\n",
      "30.0\n"
     ]
    },
    {
     "data": {
      "text/plain": [
       "30.0"
      ]
     },
     "execution_count": 1,
     "metadata": {},
     "output_type": "execute_result"
    }
   ],
   "source": [
    "import tensorflow as tf\n",
    " \n",
    "# Build a graph.\n",
    "a = tf.constant(5.0)\n",
    "b = tf.constant(6.0)\n",
    "c = a * b\n",
    "# Launch the graph in a session.\n",
    "sess = tf.Session()\n",
    "x=sess.run(a)\n",
    "# Evaluate the tensor `c`.\n",
    "print(\"c:\",sess.run(c))\n",
    "print(\"type of a :\",type(a ))\n",
    "print(\"type of c :\",type(c )) #<class 'tensorflow.python.framework.ops.Tensor'>\n",
    "print(\"a:\",sess.run(a))\n",
    "print(\"x:\",x) \n",
    " \n",
    "a = tf.constant(5.0)\n",
    "b = tf.constant(6.0)\n",
    "c = a * b\n",
    "with tf.Session():\n",
    "  # We can also use 'c.eval()' here.\n",
    "  print(c.eval())\n",
    "sess.run(tf.Print(c,[c]))"
   ]
  },
  {
   "cell_type": "code",
   "execution_count": 2,
   "metadata": {},
   "outputs": [
    {
     "name": "stdout",
     "output_type": "stream",
     "text": [
      "40.0\n",
      "10.0\n"
     ]
    }
   ],
   "source": [
    "a=tf.placeholder(tf.float32)\n",
    "b=tf.placeholder(tf.float32)\n",
    "c=tf.add(a,b)\n",
    "\n",
    "with tf.Session() as sess:\n",
    "    print(sess.run(c,feed_dict={a:10,b:30}))\n",
    "    print(sess.run(a,feed_dict={a:10,b:30}))\n",
    "    "
   ]
  },
  {
   "cell_type": "code",
   "execution_count": 3,
   "metadata": {},
   "outputs": [
    {
     "name": "stdout",
     "output_type": "stream",
     "text": [
      "[[0.5975862  0.18598771]\n",
      " [0.39765155 0.14281064]]\n",
      "(5, 2)\n",
      "[[0.36735054 0.59657368]\n",
      " [0.42055205 0.07220875]\n",
      " [0.65058957 0.62223439]\n",
      " [0.65095764 0.60003768]\n",
      " [0.72083482 0.99427141]]\n",
      "<TensorSliceDataset shapes: (2,), types: tf.float64>\n",
      "<class 'tensorflow.python.data.ops.dataset_ops.TensorSliceDataset'>\n",
      "sess.run(datas): [0.36735054 0.59657368]\n"
     ]
    }
   ],
   "source": [
    "import numpy as np\n",
    "x = tf.placeholder(tf.float32, shape=(2, 2))\n",
    "y = tf.matmul(x, x)\n",
    " \n",
    "with tf.Session() as sess:\n",
    "  rand_array = np.random.rand(2, 2)  \n",
    "  print(sess.run(y, feed_dict={x: rand_array}))\n",
    "k=np.random.uniform(size=(5, 2))\n",
    "print(k.shape)\n",
    "print(k)\n",
    "#dataset = tf.data.Dataset.from_tensor_slices(np.random.uniform(size=(5, 2))) \n",
    "dataset = tf.data.Dataset.from_tensor_slices(k) \n",
    "\n",
    "print(dataset)\n",
    "print(type(dataset))\n",
    "#with tf.Session() as sess:\n",
    "#    print(sess.run(dataset))#Can not convert a TensorSliceDataset into a Tensor or Operation.)\n",
    "\n",
    "datas=dataset.make_one_shot_iterator().get_next()\n",
    "sess=tf.Session()\n",
    "print(\"sess.run(datas):\",sess.run(datas))"
   ]
  },
  {
   "cell_type": "code",
   "execution_count": 9,
   "metadata": {},
   "outputs": [
    {
     "name": "stdout",
     "output_type": "stream",
     "text": [
      "a    1\n",
      "b    2\n",
      "c    3\n",
      "f    4\n",
      "e    5\n",
      "dtype: int64\n",
      "2\n",
      "(5,)\n"
     ]
    }
   ],
   "source": [
    "import pandas as pd\n",
    "\n",
    "s=pd.Series([1,2,3,4,5],index=['a','b','c','f','e'])\n",
    "print(s)\n",
    "print(s['b'])\n",
    "print(s.shape)"
   ]
  },
  {
   "cell_type": "code",
   "execution_count": 18,
   "metadata": {},
   "outputs": [
    {
     "name": "stdout",
     "output_type": "stream",
     "text": [
      "   cols\n",
      "a     1\n",
      "b     2\n",
      "c     3\n",
      "d     4\n",
      "e     5\n",
      "df['cols']: \n",
      " a    1\n",
      "b    2\n",
      "c    3\n",
      "d    4\n",
      "e    5\n",
      "Name: cols, dtype: int64\n"
     ]
    }
   ],
   "source": [
    "import numpy as np\n",
    "df = pd.DataFrame([1, 2, 3, 4, 5], columns=['cols'], index=['a','b','c','d','e'])\n",
    "print(df)\n",
    "print(\"df['cols']: \\n\",df['cols'])\n"
   ]
  },
  {
   "cell_type": "code",
   "execution_count": 21,
   "metadata": {},
   "outputs": [
    {
     "name": "stdout",
     "output_type": "stream",
     "text": [
      "df2    col1  col2  col3\n",
      "a     1     2     3\n",
      "b     4     5     6\n",
      "a    3\n",
      "b    6\n",
      "Name: col3, dtype: int64\n",
      "Index(['a', 'b'], dtype='object')\n",
      "Index(['col1', 'col2', 'col3'], dtype='object')\n"
     ]
    },
    {
     "data": {
      "text/plain": [
       "Index(['a', 'b'], dtype='object')"
      ]
     },
     "execution_count": 21,
     "metadata": {},
     "output_type": "execute_result"
    }
   ],
   "source": [
    "df2 = pd.DataFrame([[1, 2, 3],[4, 5, 6]], columns=['col1','col2','col3'], index=['a','b'])\n",
    "print(\"df2\",df2)\n",
    "print(df2[\"col3\"])\n",
    "print(df2.index)\n",
    "print(df2.columns)\n",
    "df2.index"
   ]
  },
  {
   "cell_type": "code",
   "execution_count": 22,
   "metadata": {},
   "outputs": [
    {
     "data": {
      "text/plain": [
       "col1    1\n",
       "col2    2\n",
       "col3    3\n",
       "Name: a, dtype: int64"
      ]
     },
     "execution_count": 22,
     "metadata": {},
     "output_type": "execute_result"
    }
   ],
   "source": [
    "df2.loc['a']   "
   ]
  },
  {
   "cell_type": "code",
   "execution_count": 31,
   "metadata": {},
   "outputs": [
    {
     "name": "stdout",
     "output_type": "stream",
     "text": [
      "{'city': ['Beijing', 'Shanghai', 'Guangzhou', 'Shenzhen', 'Hangzhou', 'Chongqing'], 'year': [2016, 2017, 2016, 2017, 2016, 2016], 'population': [2100, 2300, 1000, 700, 500, 500]}\n",
      "        city  year  population\n",
      "0    Beijing  2016        2100\n",
      "1   Shanghai  2017        2300\n",
      "2  Guangzhou  2016        1000\n",
      "3   Shenzhen  2017         700\n",
      "4   Hangzhou  2016         500\n",
      "5  Chongqing  2016         500\n"
     ]
    }
   ],
   "source": [
    "import numpy as np\n",
    "import pandas as pd\n",
    "import tensorflow as tf\n",
    "from __future__ import print_function\n",
    "\n",
    "import math\n",
    "\n",
    "from IPython import display\n",
    "from matplotlib import cm\n",
    "from matplotlib import gridspec\n",
    "from matplotlib import pyplot as plt\n",
    "import numpy as np\n",
    "import pandas as pd\n",
    "from sklearn import metrics\n",
    "import tensorflow as tf\n",
    "from tensorflow.python.data import Dataset\n",
    "feature_values = np.array([[10, 7, 4], [3, 2, 1]])\n",
    "num_buckets=4\n",
    "boundaries = np.arange(1.0, num_buckets) / num_buckets\n",
    "#quantiles = feature_values.quantile(boundaries) \n",
    "population={'city':['Beijing','Shanghai','Guangzhou','Shenzhen','Hangzhou','Chongqing'],\n",
    "            'year':[2016,2017,2016,2017,2016,2016],\n",
    "            'population':[2100,2300,1000,700,500,500]\n",
    "            }\n",
    "print(population)\n",
    "population=pd.DataFrame(population)   ###\n",
    "print(population)\n"
   ]
  },
  {
   "cell_type": "code",
   "execution_count": 48,
   "metadata": {},
   "outputs": [
    {
     "name": "stdout",
     "output_type": "stream",
     "text": [
      "apts:\n",
      " Beijing      55000.0\n",
      "Shanghai     60000.0\n",
      "shenzhen     50000.0\n",
      "Hangzhou     20000.0\n",
      "Guangzhou    45000.0\n",
      "Suzhou           NaN\n",
      "Name: income, dtype: float64\n",
      "df1：\n",
      "             income\n",
      "Beijing    55000.0\n",
      "Shanghai   60000.0\n",
      "shenzhen   50000.0\n",
      "Hangzhou   20000.0\n",
      "Guangzhou  45000.0\n",
      "Suzhou         NaN\n",
      "apts:\n",
      " Beijing      55000.0\n",
      "Shanghai     60000.0\n",
      "shenzhen     70000.0\n",
      "Hangzhou     20000.0\n",
      "Guangzhou    45000.0\n",
      "Suzhou           NaN\n",
      "Name: income, dtype: float64\n",
      "less_than_50000 apts:\n",
      " Beijing      55000.0\n",
      "Shanghai     60000.0\n",
      "shenzhen     70000.0\n",
      "Hangzhou     40000.0\n",
      "Guangzhou    40000.0\n",
      "Suzhou           NaN\n",
      "Name: income, dtype: float64\n",
      "apts2 :\n",
      " Beijing      10000\n",
      "Shanghai      8000\n",
      "shenzhen      6000\n",
      "Tianjin      40000\n",
      "Guangzhou     7000\n",
      "Chongqing    30000\n",
      "dtype: int64\n",
      "apts :\n",
      " Beijing      65000.0\n",
      "Chongqing    64000.0\n",
      "Guangzhou    47000.0\n",
      "Hangzhou     64000.0\n",
      "Shanghai     68000.0\n",
      "Suzhou       64000.0\n",
      "Tianjin      64000.0\n",
      "shenzhen     76000.0\n",
      "dtype: float64\n",
      "              apts    apts2\n",
      "Beijing    65000.0  10000.0\n",
      "Chongqing  64000.0  30000.0\n",
      "Guangzhou  47000.0   7000.0\n",
      "Hangzhou   64000.0      NaN\n",
      "Shanghai   68000.0   8000.0\n",
      "Suzhou     64000.0      NaN\n",
      "Tianjin    64000.0  40000.0\n",
      "shenzhen   76000.0   6000.0\n",
      "boundaries :\n",
      " [0.   0.25 0.5  0.75]\n",
      "quantiles:\n",
      "          apts    apts2\n",
      "0.00  47000.0   6000.0\n",
      "0.25  64000.0   7250.0\n",
      "0.50  64000.0   9000.0\n",
      "0.75  65750.0  25000.0\n"
     ]
    },
    {
     "data": {
      "text/html": [
       "<div>\n",
       "<style scoped>\n",
       "    .dataframe tbody tr th:only-of-type {\n",
       "        vertical-align: middle;\n",
       "    }\n",
       "\n",
       "    .dataframe tbody tr th {\n",
       "        vertical-align: top;\n",
       "    }\n",
       "\n",
       "    .dataframe thead th {\n",
       "        text-align: right;\n",
       "    }\n",
       "</style>\n",
       "<table border=\"1\" class=\"dataframe\">\n",
       "  <thead>\n",
       "    <tr style=\"text-align: right;\">\n",
       "      <th></th>\n",
       "      <th>apts</th>\n",
       "      <th>apts2</th>\n",
       "    </tr>\n",
       "  </thead>\n",
       "  <tbody>\n",
       "    <tr>\n",
       "      <th>Beijing</th>\n",
       "      <td>65000.0</td>\n",
       "      <td>10000.0</td>\n",
       "    </tr>\n",
       "    <tr>\n",
       "      <th>Chongqing</th>\n",
       "      <td>64000.0</td>\n",
       "      <td>30000.0</td>\n",
       "    </tr>\n",
       "    <tr>\n",
       "      <th>Guangzhou</th>\n",
       "      <td>47000.0</td>\n",
       "      <td>7000.0</td>\n",
       "    </tr>\n",
       "    <tr>\n",
       "      <th>Hangzhou</th>\n",
       "      <td>64000.0</td>\n",
       "      <td>NaN</td>\n",
       "    </tr>\n",
       "    <tr>\n",
       "      <th>Shanghai</th>\n",
       "      <td>68000.0</td>\n",
       "      <td>8000.0</td>\n",
       "    </tr>\n",
       "  </tbody>\n",
       "</table>\n",
       "</div>"
      ],
      "text/plain": [
       "              apts    apts2\n",
       "Beijing    65000.0  10000.0\n",
       "Chongqing  64000.0  30000.0\n",
       "Guangzhou  47000.0   7000.0\n",
       "Hangzhou   64000.0      NaN\n",
       "Shanghai   68000.0   8000.0"
      ]
     },
     "execution_count": 48,
     "metadata": {},
     "output_type": "execute_result"
    }
   ],
   "source": [
    "cities={'Beijing':55000,'Shanghai':60000,'shenzhen':50000,'Hangzhou':20000,'Guangzhou':45000,'Suzhou':None}\n",
    "apts=pd.Series(cities,name='income')\n",
    "print(\"apts:\\n\",apts)\n",
    "df1=pd.DataFrame(apts)\n",
    "print(\"df1：\\n\",df1)\n",
    "apts['shenzhen']=70000\n",
    "print(\"apts:\\n\",apts)\n",
    "less_than_50000=(apts<50000)\n",
    "apts[less_than_50000]=40000\n",
    "print(\"less_than_50000 apts:\\n\",apts)\n",
    "apts2=pd.Series({'Beijing':10000,'Shanghai':8000,'shenzhen':6000,'Tianjin':40000,'Guangzhou':7000,'Chongqing':30000})\n",
    "print(\"apts2 :\\n\",apts2)\n",
    "apts=apts+apts2\n",
    "apts[apts.isnull()]=apts.mean()\n",
    "print(\"apts :\\n\",apts)\n",
    "\n",
    "df=pd.DataFrame({'apts':apts,'apts2':apts2})   ###\n",
    "print(df)\n",
    "feature_values=df\n",
    "num_buckets=4\n",
    "boundaries = np.arange(0.0, num_buckets) / num_buckets\n",
    "print(\"boundaries :\\n\",boundaries )\n",
    "quantiles = feature_values.quantile(boundaries) \n",
    "print(\"quantiles:\\n\",quantiles)\n",
    "df.describe()\n",
    "df.head()"
   ]
  },
  {
   "cell_type": "code",
   "execution_count": 56,
   "metadata": {},
   "outputs": [
    {
     "name": "stdout",
     "output_type": "stream",
     "text": [
      "df:\n",
      "               apts    apts2  bonus    income\n",
      "Beijing    65000.0  10000.0   2000  147000.0\n",
      "Chongqing  64000.0  30000.0   2000  175000.0\n",
      "Guangzhou  47000.0   7000.0   2000  106500.0\n",
      "Hangzhou   64000.0      NaN   2000       NaN\n",
      "Shanghai   68000.0   8000.0   2000  150000.0\n",
      "Suzhou     64000.0      NaN   2000       NaN\n",
      "Tianjin    64000.0  40000.0   2000  190000.0\n",
      "shenzhen   76000.0   6000.0   2000  163000.0\n",
      "      apts    apts2  bonus    income\n",
      "0  65000.0  10000.0   2000  147000.0\n",
      "1  64000.0  30000.0   2000  175000.0\n",
      "2  47000.0   7000.0   2000  106500.0\n",
      "3  64000.0      NaN   2000       NaN\n",
      "4  68000.0   8000.0   2000  150000.0\n",
      "5  64000.0      NaN   2000       NaN\n",
      "6  64000.0  40000.0   2000  190000.0\n",
      "7  76000.0   6000.0   2000  163000.0\n",
      "  Unnamed: 0     apts    apts2  bonus    income\n",
      "0    Beijing  65000.0  10000.0   2000  147000.0\n",
      "1  Chongqing  64000.0  30000.0   2000  175000.0\n",
      "2  Guangzhou  47000.0   7000.0   2000  106500.0\n",
      "3   Hangzhou  64000.0      NaN   2000       NaN\n",
      "4   Shanghai  68000.0   8000.0   2000  150000.0\n",
      "5     Suzhou  64000.0      NaN   2000       NaN\n",
      "6    Tianjin  64000.0  40000.0   2000  190000.0\n",
      "7   shenzhen  76000.0   6000.0   2000  163000.0\n",
      "tmp_df:\n",
      "           Unnamed: 0     apts    apts2  bonus    income\n",
      "Beijing      Beijing  65000.0  10000.0   2000  147000.0\n",
      "Shanghai   Chongqing  64000.0  30000.0   2000  175000.0\n",
      "Suzhou     Guangzhou  47000.0   7000.0   2000  106500.0\n",
      "Hangzhou    Hangzhou  64000.0      NaN   2000       NaN\n",
      "Tianjin     Shanghai  68000.0   8000.0   2000  150000.0\n",
      "Chongqing     Suzhou  64000.0      NaN   2000       NaN\n",
      "Nanjing      Tianjin  64000.0  40000.0   2000  190000.0\n",
      "Shenzhen    shenzhen  76000.0   6000.0   2000  163000.0\n"
     ]
    }
   ],
   "source": [
    "import pandas as pd\n",
    "cities={'Beijing':55000,'Shanghai':60000,'shenzhen':50000,'Hangzhou':20000,'Guangzhou':45000,'Suzhou':None}\n",
    "apts=pd.Series(cities,name='income')\n",
    "apts['shenzhen']=70000\n",
    "less_than_50000=(apts<50000)\n",
    "apts[less_than_50000]=40000\n",
    "apts2=pd.Series({'Beijing':10000,'Shanghai':8000,'shenzhen':6000,'Tianjin':40000,'Guangzhou':7000,'Chongqing':30000})\n",
    "apts=apts+apts2\n",
    "apts[apts.isnull()]=apts.mean()\n",
    "df=pd.DataFrame({'apts':apts,'apts2':apts2})\n",
    "df['bonus']=2000  \n",
    "df['income']=df['apts']*2+df['apts2']*1.5+df['bonus']\n",
    "print(\"df:\\n\",df)\n",
    "df.to_csv('df.csv')\n",
    "df.to_csv('df2.csv',index=False) #去掉第一列,行索引列\n",
    "\n",
    "import os\n",
    "df2_site = r\"C:\\Users\\jinlong\\df2.csv\"\n",
    "df_site = r\"C:\\Users\\jinlong\\df.csv\"\n",
    "pwd = os.getcwd()  #获取当前工作目录\n",
    "os.chdir(os.path.dirname(df2_site))\n",
    "tmp_df = pd.read_csv(os.path.basename(df2_site))   ###\n",
    "print(tmp_df)\n",
    "os.chdir(os.path.dirname(df_site))\n",
    "tmp_df = pd.read_csv(os.path.basename(df_site))   ###\n",
    "print(tmp_df)\n",
    "tmp_df_index = pd.Index(['Beijing','Shanghai',\"Suzhou\",'Hangzhou','Tianjin','Chongqing','Nanjing','Shenzhen'])\n",
    "tmp_df.index=tmp_df_index   #修改索引\n",
    "print(\"tmp_df:\\n\",tmp_df)\n",
    "df.to_csv('df3.csv',sep='\\t')"
   ]
  },
  {
   "cell_type": "code",
   "execution_count": null,
   "metadata": {},
   "outputs": [],
   "source": []
  }
 ],
 "metadata": {
  "kernelspec": {
   "display_name": "Python 3",
   "language": "python",
   "name": "python3"
  },
  "language_info": {
   "codemirror_mode": {
    "name": "ipython",
    "version": 3
   },
   "file_extension": ".py",
   "mimetype": "text/x-python",
   "name": "python",
   "nbconvert_exporter": "python",
   "pygments_lexer": "ipython3",
   "version": "3.6.5"
  }
 },
 "nbformat": 4,
 "nbformat_minor": 2
}
